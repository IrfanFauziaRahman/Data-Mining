{
 "cells": [
  {
   "cell_type": "code",
   "execution_count": 354,
   "id": "5caa3eff",
   "metadata": {},
   "outputs": [],
   "source": [
    "import numpy as np\n",
    "import matplotlib.pyplot as plt\n",
    "import pandas as pd"
   ]
  },
  {
   "cell_type": "code",
   "execution_count": 355,
   "id": "a7660a63",
   "metadata": {},
   "outputs": [],
   "source": [
    "dataset = pd.read_csv('android-games.csv')\n",
    "x = dataset.iloc[:, :-1].values\n",
    "y = dataset.iloc[:, -1].values"
   ]
  },
  {
   "cell_type": "code",
   "execution_count": 356,
   "id": "415bc1b6",
   "metadata": {},
   "outputs": [
    {
     "name": "stdout",
     "output_type": "stream",
     "text": [
      "[[1 'Garena Free Fire- World Series' 86273129 ... 3158756 2122183\n",
      "  12495915]\n",
      " [2 'PUBG MOBILE - Traverse' 37276732 ... 1253185 809821 4709492]\n",
      " [3 'Mobile Legends: Bang Bang' 26663595 ... 1050600 713912 4308998]\n",
      " ...\n",
      " [98 'Scrabble® GO - New Word Game' 110723 ... 9385 6688 12132]\n",
      " [99 'Word Nut: Word Puzzle Games & Crosswords' 109530 ... 1469 953 2353]\n",
      " [100 'Pinturillo 2' 108917 ... 11825 6166 23631]]\n"
     ]
    }
   ],
   "source": [
    "print(x)"
   ]
  },
  {
   "cell_type": "code",
   "execution_count": 357,
   "id": "519b3212",
   "metadata": {},
   "outputs": [
    {
     "name": "stdout",
     "output_type": "stream",
     "text": [
      "[False False False ... False False False]\n"
     ]
    }
   ],
   "source": [
    "print(y)"
   ]
  },
  {
   "cell_type": "code",
   "execution_count": 358,
   "id": "51b18c5b",
   "metadata": {},
   "outputs": [],
   "source": [
    "from sklearn.impute import SimpleImputer\n",
    "imputer = SimpleImputer(missing_values=np.nan, strategy='mean')\n",
    "imputer.fit(x[:, 2:3])\n",
    "x[:, 2:3] = imputer.transform(x[:, 2:3])"
   ]
  },
  {
   "cell_type": "code",
   "execution_count": 359,
   "id": "d8fd8418",
   "metadata": {},
   "outputs": [
    {
     "name": "stdout",
     "output_type": "stream",
     "text": [
      "[[1 'Garena Free Fire- World Series' 86273129.0 ... 3158756 2122183\n",
      "  12495915]\n",
      " [2 'PUBG MOBILE - Traverse' 37276732.0 ... 1253185 809821 4709492]\n",
      " [3 'Mobile Legends: Bang Bang' 26663595.0 ... 1050600 713912 4308998]\n",
      " ...\n",
      " [98 'Scrabble® GO - New Word Game' 110723.0 ... 9385 6688 12132]\n",
      " [99 'Word Nut: Word Puzzle Games & Crosswords' 109530.0 ... 1469 953\n",
      "  2353]\n",
      " [100 'Pinturillo 2' 108917.0 ... 11825 6166 23631]]\n"
     ]
    }
   ],
   "source": [
    "print(x)"
   ]
  },
  {
   "cell_type": "code",
   "execution_count": 360,
   "id": "7be95ce5",
   "metadata": {},
   "outputs": [
    {
     "name": "stderr",
     "output_type": "stream",
     "text": [
      "c:\\Python311\\Lib\\site-packages\\sklearn\\preprocessing\\_encoders.py:868: FutureWarning: `sparse` was renamed to `sparse_output` in version 1.2 and will be removed in 1.4. `sparse_output` is ignored unless you leave `sparse` to its default value.\n",
      "  warnings.warn(\n"
     ]
    }
   ],
   "source": [
    "from sklearn.compose import ColumnTransformer\n",
    "from sklearn.preprocessing import OneHotEncoder\n",
    "ct = ColumnTransformer(transformers=[('encoder', OneHotEncoder(sparse=False), [0])], remainder='passthrough')\n",
    "x = np.array(ct.fit_transform(x))"
   ]
  },
  {
   "cell_type": "code",
   "execution_count": 361,
   "id": "eaff828f",
   "metadata": {},
   "outputs": [
    {
     "name": "stdout",
     "output_type": "stream",
     "text": [
      "[[1.0 0.0 0.0 ... 3158756 2122183 12495915]\n",
      " [0.0 1.0 0.0 ... 1253185 809821 4709492]\n",
      " [0.0 0.0 1.0 ... 1050600 713912 4308998]\n",
      " ...\n",
      " [0.0 0.0 0.0 ... 9385 6688 12132]\n",
      " [0.0 0.0 0.0 ... 1469 953 2353]\n",
      " [0.0 0.0 0.0 ... 11825 6166 23631]]\n"
     ]
    }
   ],
   "source": [
    "print(x)"
   ]
  },
  {
   "cell_type": "code",
   "execution_count": 362,
   "id": "a95fa859",
   "metadata": {},
   "outputs": [],
   "source": [
    "from sklearn.preprocessing import LabelEncoder\n",
    "le = LabelEncoder()\n",
    "y = le.fit_transform(y)"
   ]
  },
  {
   "cell_type": "code",
   "execution_count": 363,
   "id": "975c8400",
   "metadata": {},
   "outputs": [
    {
     "name": "stdout",
     "output_type": "stream",
     "text": [
      "[0 0 0 ... 0 0 0]\n"
     ]
    }
   ],
   "source": [
    "print(y)"
   ]
  },
  {
   "cell_type": "code",
   "execution_count": 364,
   "id": "46545633",
   "metadata": {},
   "outputs": [],
   "source": [
    "from sklearn.model_selection import train_test_split\n",
    "x_train, x_test, y_train, y_test = train_test_split(x, y, test_size=0.2, random_state=1)"
   ]
  },
  {
   "cell_type": "code",
   "execution_count": 365,
   "id": "075bd254",
   "metadata": {},
   "outputs": [
    {
     "name": "stdout",
     "output_type": "stream",
     "text": [
      "[[0.0 0.0 0.0 ... 1971 1139 3487]\n",
      " [0.0 0.0 0.0 ... 433227 128489 288631]\n",
      " [0.0 0.0 0.0 ... 31975 20348 100402]\n",
      " ...\n",
      " [0.0 0.0 0.0 ... 25508 10219 27348]\n",
      " [0.0 0.0 0.0 ... 97115 38288 173823]\n",
      " [0.0 0.0 0.0 ... 25613 9960 28395]]\n"
     ]
    }
   ],
   "source": [
    "print(x_train)"
   ]
  },
  {
   "cell_type": "code",
   "execution_count": 366,
   "id": "6edc23ca",
   "metadata": {},
   "outputs": [
    {
     "name": "stdout",
     "output_type": "stream",
     "text": [
      "[[0.0 0.0 0.0 ... 106587 61626 221936]\n",
      " [0.0 0.0 0.0 ... 14384 5285 12447]\n",
      " [0.0 0.0 0.0 ... 3313 1247 4311]\n",
      " ...\n",
      " [0.0 0.0 0.0 ... 7028 2559 9397]\n",
      " [0.0 0.0 0.0 ... 131708 84146 327675]\n",
      " [0.0 0.0 0.0 ... 31524 15502 54414]]\n"
     ]
    }
   ],
   "source": [
    "print(x_test)"
   ]
  },
  {
   "cell_type": "code",
   "execution_count": 367,
   "id": "898ee3dd",
   "metadata": {},
   "outputs": [
    {
     "name": "stdout",
     "output_type": "stream",
     "text": [
      "[0 0 0 ... 0 0 0]\n"
     ]
    }
   ],
   "source": [
    "print(y_train)"
   ]
  },
  {
   "cell_type": "code",
   "execution_count": 368,
   "id": "d1c237da",
   "metadata": {},
   "outputs": [
    {
     "name": "stdout",
     "output_type": "stream",
     "text": [
      "[0 0 0 0 0 0 0 0 0 0 0 0 0 0 0 0 0 0 0 0 0 0 0 0 0 0 0 0 0 0 0 0 0 0 0 0 0\n",
      " 0 0 0 0 0 0 0 0 0 0 0 0 0 0 0 0 0 0 0 0 0 0 0 0 0 0 0 0 0 0 0 0 0 0 0 0 0\n",
      " 0 0 0 0 0 0 0 0 0 0 0 0 0 0 0 0 0 0 0 0 0 0 0 0 0 0 0 0 0 0 0 0 0 0 0 0 0\n",
      " 0 0 0 0 0 0 0 0 0 0 0 0 0 0 0 0 0 0 0 0 0 0 0 0 0 0 0 0 0 0 0 0 0 0 0 0 0\n",
      " 0 0 0 0 0 0 0 0 0 0 0 0 0 0 0 0 0 0 0 0 0 0 0 0 0 0 0 0 0 0 0 0 0 0 0 0 0\n",
      " 0 0 0 0 0 0 0 0 0 0 0 0 0 0 0 0 0 0 0 0 0 0 0 0 0 0 0 0 0 0 0 0 0 0 0 0 0\n",
      " 0 0 0 0 0 0 0 0 0 0 0 0 0 0 0 0 0 0 0 0 0 0 0 0 0 0 0 0 0 0 0 0 0 0 0 0 0\n",
      " 0 0 0 0 0 0 0 0 0 0 0 0 0 0 0 0 0 0 0 0 0 0 0 0 0 0 0 0 0 0 0 0 0 0 0 0 0\n",
      " 0 0 0 0 0 0 0 0 0 0 0 0 0 0 0 0 0 0 0 0 0 0 0 0 0 0 0 0 0 0 0 0 0 0 0 0 0\n",
      " 0 0 0 0 0 0 0 0 0 0 0 0 0]\n"
     ]
    }
   ],
   "source": [
    "print(y_test)"
   ]
  },
  {
   "cell_type": "code",
   "execution_count": 369,
   "id": "3e3f9442",
   "metadata": {},
   "outputs": [
    {
     "name": "stderr",
     "output_type": "stream",
     "text": [
      "C:\\Users\\admin\\AppData\\Local\\Temp\\ipykernel_412\\2187101010.py:7: FutureWarning: In a future version, the Index constructor will not infer numeric dtypes when passed object-dtype sequences (matching Series behavior)\n",
      "  ohe = pd.get_dummies(pd.concat([pd.DataFrame(x_train_categorical), pd.DataFrame(x_test_categorical)]))\n"
     ]
    }
   ],
   "source": [
    "import pandas as pd\n",
    "\n",
    "categorical_cols = [3]\n",
    "x_train_categorical = x_train[:, categorical_cols]\n",
    "x_test_categorical = x_test[:, categorical_cols]\n",
    "\n",
    "ohe = pd.get_dummies(pd.concat([pd.DataFrame(x_train_categorical), pd.DataFrame(x_test_categorical)]))\n",
    "x_train_ohe = ohe[:len(x_train_categorical)]\n",
    "x_test_ohe = ohe[len(x_train_categorical):]\n",
    "\n",
    "x_train_processed = np.hstack((x_train[:, :3], x_train_ohe.values, x_train[:, 4:]))\n",
    "x_test_processed = np.hstack((x_test[:, :3], x_test_ohe.values, x_test[:, 4:]))"
   ]
  },
  {
   "cell_type": "code",
   "execution_count": 370,
   "id": "d88ba2f7",
   "metadata": {},
   "outputs": [
    {
     "name": "stdout",
     "output_type": "stream",
     "text": [
      "[[0.0 0.0 0.0 ... 1971 1139 3487]\n",
      " [0.0 0.0 0.0 ... 433227 128489 288631]\n",
      " [0.0 0.0 0.0 ... 31975 20348 100402]\n",
      " ...\n",
      " [0.0 0.0 0.0 ... 25508 10219 27348]\n",
      " [0.0 0.0 0.0 ... 97115 38288 173823]\n",
      " [0.0 0.0 0.0 ... 25613 9960 28395]]\n"
     ]
    }
   ],
   "source": [
    "print(x_train)"
   ]
  },
  {
   "cell_type": "code",
   "execution_count": 371,
   "id": "90f46cef",
   "metadata": {},
   "outputs": [
    {
     "name": "stdout",
     "output_type": "stream",
     "text": [
      "[[0.0 0.0 0.0 ... 106587 61626 221936]\n",
      " [0.0 0.0 0.0 ... 14384 5285 12447]\n",
      " [0.0 0.0 0.0 ... 3313 1247 4311]\n",
      " ...\n",
      " [0.0 0.0 0.0 ... 7028 2559 9397]\n",
      " [0.0 0.0 0.0 ... 131708 84146 327675]\n",
      " [0.0 0.0 0.0 ... 31524 15502 54414]]\n"
     ]
    }
   ],
   "source": [
    "print(x_test)"
   ]
  }
 ],
 "metadata": {
  "kernelspec": {
   "display_name": "Python 3 (ipykernel)",
   "language": "python",
   "name": "python3"
  },
  "language_info": {
   "codemirror_mode": {
    "name": "ipython",
    "version": 3
   },
   "file_extension": ".py",
   "mimetype": "text/x-python",
   "name": "python",
   "nbconvert_exporter": "python",
   "pygments_lexer": "ipython3",
   "version": "3.11.2"
  }
 },
 "nbformat": 4,
 "nbformat_minor": 5
}
