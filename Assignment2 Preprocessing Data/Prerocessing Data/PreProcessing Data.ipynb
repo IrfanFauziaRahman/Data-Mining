{
 "cells": [
  {
   "cell_type": "code",
   "execution_count": 2,
   "id": "5caa3eff",
   "metadata": {},
   "outputs": [],
   "source": [
    "import numpy as np\n",
    "import matplotlib.pyplot as plt\n",
    "import pandas as pd"
   ]
  },
  {
   "cell_type": "code",
   "execution_count": 3,
   "id": "a7660a63",
   "metadata": {},
   "outputs": [],
   "source": [
    "dataset = pd.read_csv('android-games.csv')\n",
    "x = dataset.iloc[:, :-1].values\n",
    "y = dataset.iloc[:, -1].values"
   ]
  },
  {
   "cell_type": "code",
   "execution_count": 4,
   "id": "415bc1b6",
   "metadata": {},
   "outputs": [
    {
     "name": "stdout",
     "output_type": "stream",
     "text": [
      "[[1 'Garena Free Fire- World Series' 86273129 ... 3158756 2122183\n",
      "  12495915]\n",
      " [2 'PUBG MOBILE - Traverse' 37276732 ... 1253185 809821 4709492]\n",
      " [3 'Mobile Legends: Bang Bang' 26663595 ... 1050600 713912 4308998]\n",
      " ...\n",
      " [98 'Scrabble® GO - New Word Game' 110723 ... 9385 6688 12132]\n",
      " [99 'Word Nut: Word Puzzle Games & Crosswords' 109530 ... 1469 953 2353]\n",
      " [100 'Pinturillo 2' 108917 ... 11825 6166 23631]]\n"
     ]
    }
   ],
   "source": [
    "print(x)"
   ]
  },
  {
   "cell_type": "code",
   "execution_count": 7,
   "id": "519b3212",
   "metadata": {},
   "outputs": [
    {
     "name": "stdout",
     "output_type": "stream",
     "text": [
      "[False False False ... False False False]\n"
     ]
    }
   ],
   "source": [
    "print(y)"
   ]
  }
 ],
 "metadata": {
  "kernelspec": {
   "display_name": "Python 3 (ipykernel)",
   "language": "python",
   "name": "python3"
  },
  "language_info": {
   "codemirror_mode": {
    "name": "ipython",
    "version": 3
   },
   "file_extension": ".py",
   "mimetype": "text/x-python",
   "name": "python",
   "nbconvert_exporter": "python",
   "pygments_lexer": "ipython3",
   "version": "3.11.2"
  }
 },
 "nbformat": 4,
 "nbformat_minor": 5
}
