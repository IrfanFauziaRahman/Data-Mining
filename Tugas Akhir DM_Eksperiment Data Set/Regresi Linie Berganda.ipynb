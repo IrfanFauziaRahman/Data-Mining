{
 "cells": [
  {
   "cell_type": "code",
   "execution_count": 1,
   "metadata": {
    "vscode": {
     "languageId": "r"
    }
   },
   "outputs": [
    {
     "name": "stderr",
     "output_type": "stream",
     "text": [
      "\n",
      "Attaching package: 'dplyr'\n",
      "\n",
      "\n",
      "The following objects are masked from 'package:plyr':\n",
      "\n",
      "    arrange, count, desc, failwith, id, mutate, rename, summarise,\n",
      "    summarize\n",
      "\n",
      "\n",
      "The following objects are masked from 'package:stats':\n",
      "\n",
      "    filter, lag\n",
      "\n",
      "\n",
      "The following objects are masked from 'package:base':\n",
      "\n",
      "    intersect, setdiff, setequal, union\n",
      "\n",
      "\n",
      "Loading required package: ggplot2\n",
      "\n",
      "Loading required package: lattice\n",
      "\n",
      "Loading required package: zoo\n",
      "\n",
      "\n",
      "Attaching package: 'zoo'\n",
      "\n",
      "\n",
      "The following objects are masked from 'package:base':\n",
      "\n",
      "    as.Date, as.Date.numeric\n",
      "\n",
      "\n",
      "Loading required package: carData\n",
      "\n",
      "\n",
      "Attaching package: 'car'\n",
      "\n",
      "\n",
      "The following object is masked from 'package:dplyr':\n",
      "\n",
      "    recode\n",
      "\n",
      "\n",
      "\n",
      "Attaching package: 'EnvStats'\n",
      "\n",
      "\n",
      "The following object is masked from 'package:car':\n",
      "\n",
      "    qqPlot\n",
      "\n",
      "\n",
      "The following objects are masked from 'package:stats':\n",
      "\n",
      "    predict, predict.lm\n",
      "\n",
      "\n",
      "The following object is masked from 'package:base':\n",
      "\n",
      "    print.default\n",
      "\n",
      "\n"
     ]
    }
   ],
   "source": [
    "    #Load Library\n",
    "library(plyr)\n",
    "library(readr)\n",
    "library(dplyr)\n",
    "library(caret)\n",
    "library(ggplot2)\n",
    "library(repr)\n",
    "library(lmtest)\n",
    "library(car)\n",
    "library(EnvStats)"
   ]
  },
  {
   "cell_type": "code",
   "execution_count": 2,
   "metadata": {
    "vscode": {
     "languageId": "r"
    }
   },
   "outputs": [
    {
     "name": "stderr",
     "output_type": "stream",
     "text": [
      "\u001b[1mRows: \u001b[22m\u001b[34m35\u001b[39m \u001b[1mColumns: \u001b[22m\u001b[34m7\u001b[39m\n",
      "\u001b[36m──\u001b[39m \u001b[1mColumn specification\u001b[22m \u001b[36m────────────────────────────────────────────────────────\u001b[39m\n",
      "\u001b[1mDelimiter:\u001b[22m \",\"\n",
      "\u001b[31mchr\u001b[39m (1): Kab_Kota\n",
      "\u001b[32mdbl\u001b[39m (6): Y, X1, X2, X3, X4, X5\n",
      "\n",
      "\u001b[36mℹ\u001b[39m Use `spec()` to retrieve the full column specification for this data.\n",
      "\u001b[36mℹ\u001b[39m Specify the column types or set `show_col_types = FALSE` to quiet this message.\n"
     ]
    },
    {
     "data": {
      "text/html": [
       "<table class=\"dataframe\">\n",
       "<caption>A spec_tbl_df: 35 × 7</caption>\n",
       "<thead>\n",
       "\t<tr><th scope=col>Kab_Kota</th><th scope=col>Y</th><th scope=col>X1</th><th scope=col>X2</th><th scope=col>X3</th><th scope=col>X4</th><th scope=col>X5</th></tr>\n",
       "\t<tr><th scope=col>&lt;chr&gt;</th><th scope=col>&lt;dbl&gt;</th><th scope=col>&lt;dbl&gt;</th><th scope=col>&lt;dbl&gt;</th><th scope=col>&lt;dbl&gt;</th><th scope=col>&lt;dbl&gt;</th><th scope=col>&lt;dbl&gt;</th></tr>\n",
       "</thead>\n",
       "<tbody>\n",
       "\t<tr><td>Cilacap        </td><td>11.67</td><td>44.52</td><td>11.73</td><td> 0.24</td><td>0.13</td><td>1.60</td></tr>\n",
       "\t<tr><td>Banyumas       </td><td>13.66</td><td>48.79</td><td>21.10</td><td> 0.10</td><td>0.33</td><td>1.78</td></tr>\n",
       "\t<tr><td>Purbalingga    </td><td>16.24</td><td>50.50</td><td>13.67</td><td> 0.19</td><td>0.35</td><td>0.60</td></tr>\n",
       "\t<tr><td>Banjarnegara   </td><td>16.23</td><td>40.52</td><td> 9.29</td><td> 0.62</td><td>0.24</td><td>0.75</td></tr>\n",
       "\t<tr><td>Kebumen        </td><td>17.83</td><td>53.29</td><td>12.14</td><td> 0.13</td><td>0.38</td><td>0.90</td></tr>\n",
       "\t<tr><td>Purworejo      </td><td>12.40</td><td>40.33</td><td>20.86</td><td> 0.04</td><td>0.20</td><td>0.57</td></tr>\n",
       "\t<tr><td>Wonosobo       </td><td>17.67</td><td>47.40</td><td>11.47</td><td> 0.00</td><td>0.00</td><td>0.14</td></tr>\n",
       "\t<tr><td>Magelang       </td><td>11.91</td><td>40.65</td><td>13.73</td><td> 1.19</td><td>0.15</td><td>0.72</td></tr>\n",
       "\t<tr><td>Boyolali       </td><td>10.62</td><td>41.61</td><td>20.40</td><td> 0.18</td><td>0.27</td><td>1.43</td></tr>\n",
       "\t<tr><td>Klaten         </td><td>13.49</td><td>46.69</td><td>24.64</td><td> 2.77</td><td>0.21</td><td>3.10</td></tr>\n",
       "\t<tr><td>Sukoharjo      </td><td> 8.23</td><td>38.60</td><td>28.15</td><td> 1.38</td><td>0.59</td><td>6.11</td></tr>\n",
       "\t<tr><td>Wonogiri       </td><td>11.55</td><td>44.23</td><td>14.98</td><td> 1.32</td><td>0.17</td><td>1.92</td></tr>\n",
       "\t<tr><td>Karanganyar    </td><td>10.68</td><td>36.32</td><td>23.51</td><td> 1.00</td><td>0.44</td><td>5.31</td></tr>\n",
       "\t<tr><td>Sragen         </td><td>13.83</td><td>30.05</td><td>18.08</td><td> 3.05</td><td>0.10</td><td>1.33</td></tr>\n",
       "\t<tr><td>Grobogan       </td><td>12.74</td><td>44.81</td><td>11.51</td><td>81.65</td><td>0.35</td><td>1.09</td></tr>\n",
       "\t<tr><td>Blora          </td><td>12.39</td><td>38.27</td><td>15.27</td><td> 0.08</td><td>0.58</td><td>0.15</td></tr>\n",
       "\t<tr><td>Rembang        </td><td>15.80</td><td>65.05</td><td>11.25</td><td> 0.21</td><td>0.12</td><td>1.47</td></tr>\n",
       "\t<tr><td>Pati           </td><td>10.21</td><td>40.50</td><td>20.16</td><td> 0.11</td><td>0.61</td><td>0.88</td></tr>\n",
       "\t<tr><td>Kudus          </td><td> 7.60</td><td>32.20</td><td>40.15</td><td>10.78</td><td>0.25</td><td>1.19</td></tr>\n",
       "\t<tr><td>Jepara         </td><td> 7.44</td><td>43.57</td><td>15.92</td><td> 0.40</td><td>0.16</td><td>2.14</td></tr>\n",
       "\t<tr><td>Demak          </td><td>12.92</td><td>48.56</td><td>15.90</td><td>48.94</td><td>0.21</td><td>3.11</td></tr>\n",
       "\t<tr><td>Semarang       </td><td> 7.82</td><td>30.06</td><td>29.47</td><td>38.31</td><td>0.21</td><td>1.10</td></tr>\n",
       "\t<tr><td>Temanggung     </td><td>10.17</td><td>43.77</td><td>10.68</td><td> 0.00</td><td>0.27</td><td>0.11</td></tr>\n",
       "\t<tr><td>Kendal         </td><td>10.24</td><td>35.48</td><td>21.01</td><td>81.45</td><td>0.20</td><td>1.19</td></tr>\n",
       "\t<tr><td>Batang         </td><td> 9.68</td><td>48.81</td><td>10.91</td><td> 0.12</td><td>0.09</td><td>0.98</td></tr>\n",
       "\t<tr><td>Pekalongan     </td><td>10.57</td><td>48.36</td><td>11.90</td><td> 0.37</td><td>0.24</td><td>0.95</td></tr>\n",
       "\t<tr><td>Pemalang       </td><td>16.56</td><td>47.22</td><td>13.53</td><td> 0.45</td><td>0.12</td><td>0.27</td></tr>\n",
       "\t<tr><td>Tegal          </td><td> 8.60</td><td>37.87</td><td>16.70</td><td> 1.94</td><td>0.25</td><td>1.18</td></tr>\n",
       "\t<tr><td>Brebes         </td><td>17.43</td><td>55.99</td><td>11.27</td><td> 0.16</td><td>0.08</td><td>0.69</td></tr>\n",
       "\t<tr><td>Kota Magelang  </td><td> 7.75</td><td>49.03</td><td>39.82</td><td> 0.00</td><td>0.92</td><td>1.84</td></tr>\n",
       "\t<tr><td>Kota Surakarta </td><td> 9.40</td><td>50.75</td><td>33.48</td><td> 0.55</td><td>1.22</td><td>3.15</td></tr>\n",
       "\t<tr><td>Kota Salatiga  </td><td> 5.14</td><td>39.86</td><td>42.81</td><td> 6.49</td><td>1.72</td><td>3.99</td></tr>\n",
       "\t<tr><td>Kota Semarang  </td><td> 4.56</td><td>33.39</td><td>43.26</td><td>40.31</td><td>2.13</td><td>4.56</td></tr>\n",
       "\t<tr><td>Kota Pekalongan</td><td> 7.59</td><td>44.07</td><td>24.73</td><td> 0.98</td><td>0.64</td><td>2.24</td></tr>\n",
       "\t<tr><td>Kota Tegal     </td><td> 8.12</td><td>40.49</td><td>27.73</td><td> 0.00</td><td>0.76</td><td>2.85</td></tr>\n",
       "</tbody>\n",
       "</table>\n"
      ],
      "text/latex": [
       "A spec\\_tbl\\_df: 35 × 7\n",
       "\\begin{tabular}{lllllll}\n",
       " Kab\\_Kota & Y & X1 & X2 & X3 & X4 & X5\\\\\n",
       " <chr> & <dbl> & <dbl> & <dbl> & <dbl> & <dbl> & <dbl>\\\\\n",
       "\\hline\n",
       "\t Cilacap         & 11.67 & 44.52 & 11.73 &  0.24 & 0.13 & 1.60\\\\\n",
       "\t Banyumas        & 13.66 & 48.79 & 21.10 &  0.10 & 0.33 & 1.78\\\\\n",
       "\t Purbalingga     & 16.24 & 50.50 & 13.67 &  0.19 & 0.35 & 0.60\\\\\n",
       "\t Banjarnegara    & 16.23 & 40.52 &  9.29 &  0.62 & 0.24 & 0.75\\\\\n",
       "\t Kebumen         & 17.83 & 53.29 & 12.14 &  0.13 & 0.38 & 0.90\\\\\n",
       "\t Purworejo       & 12.40 & 40.33 & 20.86 &  0.04 & 0.20 & 0.57\\\\\n",
       "\t Wonosobo        & 17.67 & 47.40 & 11.47 &  0.00 & 0.00 & 0.14\\\\\n",
       "\t Magelang        & 11.91 & 40.65 & 13.73 &  1.19 & 0.15 & 0.72\\\\\n",
       "\t Boyolali        & 10.62 & 41.61 & 20.40 &  0.18 & 0.27 & 1.43\\\\\n",
       "\t Klaten          & 13.49 & 46.69 & 24.64 &  2.77 & 0.21 & 3.10\\\\\n",
       "\t Sukoharjo       &  8.23 & 38.60 & 28.15 &  1.38 & 0.59 & 6.11\\\\\n",
       "\t Wonogiri        & 11.55 & 44.23 & 14.98 &  1.32 & 0.17 & 1.92\\\\\n",
       "\t Karanganyar     & 10.68 & 36.32 & 23.51 &  1.00 & 0.44 & 5.31\\\\\n",
       "\t Sragen          & 13.83 & 30.05 & 18.08 &  3.05 & 0.10 & 1.33\\\\\n",
       "\t Grobogan        & 12.74 & 44.81 & 11.51 & 81.65 & 0.35 & 1.09\\\\\n",
       "\t Blora           & 12.39 & 38.27 & 15.27 &  0.08 & 0.58 & 0.15\\\\\n",
       "\t Rembang         & 15.80 & 65.05 & 11.25 &  0.21 & 0.12 & 1.47\\\\\n",
       "\t Pati            & 10.21 & 40.50 & 20.16 &  0.11 & 0.61 & 0.88\\\\\n",
       "\t Kudus           &  7.60 & 32.20 & 40.15 & 10.78 & 0.25 & 1.19\\\\\n",
       "\t Jepara          &  7.44 & 43.57 & 15.92 &  0.40 & 0.16 & 2.14\\\\\n",
       "\t Demak           & 12.92 & 48.56 & 15.90 & 48.94 & 0.21 & 3.11\\\\\n",
       "\t Semarang        &  7.82 & 30.06 & 29.47 & 38.31 & 0.21 & 1.10\\\\\n",
       "\t Temanggung      & 10.17 & 43.77 & 10.68 &  0.00 & 0.27 & 0.11\\\\\n",
       "\t Kendal          & 10.24 & 35.48 & 21.01 & 81.45 & 0.20 & 1.19\\\\\n",
       "\t Batang          &  9.68 & 48.81 & 10.91 &  0.12 & 0.09 & 0.98\\\\\n",
       "\t Pekalongan      & 10.57 & 48.36 & 11.90 &  0.37 & 0.24 & 0.95\\\\\n",
       "\t Pemalang        & 16.56 & 47.22 & 13.53 &  0.45 & 0.12 & 0.27\\\\\n",
       "\t Tegal           &  8.60 & 37.87 & 16.70 &  1.94 & 0.25 & 1.18\\\\\n",
       "\t Brebes          & 17.43 & 55.99 & 11.27 &  0.16 & 0.08 & 0.69\\\\\n",
       "\t Kota Magelang   &  7.75 & 49.03 & 39.82 &  0.00 & 0.92 & 1.84\\\\\n",
       "\t Kota Surakarta  &  9.40 & 50.75 & 33.48 &  0.55 & 1.22 & 3.15\\\\\n",
       "\t Kota Salatiga   &  5.14 & 39.86 & 42.81 &  6.49 & 1.72 & 3.99\\\\\n",
       "\t Kota Semarang   &  4.56 & 33.39 & 43.26 & 40.31 & 2.13 & 4.56\\\\\n",
       "\t Kota Pekalongan &  7.59 & 44.07 & 24.73 &  0.98 & 0.64 & 2.24\\\\\n",
       "\t Kota Tegal      &  8.12 & 40.49 & 27.73 &  0.00 & 0.76 & 2.85\\\\\n",
       "\\end{tabular}\n"
      ],
      "text/markdown": [
       "\n",
       "A spec_tbl_df: 35 × 7\n",
       "\n",
       "| Kab_Kota &lt;chr&gt; | Y &lt;dbl&gt; | X1 &lt;dbl&gt; | X2 &lt;dbl&gt; | X3 &lt;dbl&gt; | X4 &lt;dbl&gt; | X5 &lt;dbl&gt; |\n",
       "|---|---|---|---|---|---|---|\n",
       "| Cilacap         | 11.67 | 44.52 | 11.73 |  0.24 | 0.13 | 1.60 |\n",
       "| Banyumas        | 13.66 | 48.79 | 21.10 |  0.10 | 0.33 | 1.78 |\n",
       "| Purbalingga     | 16.24 | 50.50 | 13.67 |  0.19 | 0.35 | 0.60 |\n",
       "| Banjarnegara    | 16.23 | 40.52 |  9.29 |  0.62 | 0.24 | 0.75 |\n",
       "| Kebumen         | 17.83 | 53.29 | 12.14 |  0.13 | 0.38 | 0.90 |\n",
       "| Purworejo       | 12.40 | 40.33 | 20.86 |  0.04 | 0.20 | 0.57 |\n",
       "| Wonosobo        | 17.67 | 47.40 | 11.47 |  0.00 | 0.00 | 0.14 |\n",
       "| Magelang        | 11.91 | 40.65 | 13.73 |  1.19 | 0.15 | 0.72 |\n",
       "| Boyolali        | 10.62 | 41.61 | 20.40 |  0.18 | 0.27 | 1.43 |\n",
       "| Klaten          | 13.49 | 46.69 | 24.64 |  2.77 | 0.21 | 3.10 |\n",
       "| Sukoharjo       |  8.23 | 38.60 | 28.15 |  1.38 | 0.59 | 6.11 |\n",
       "| Wonogiri        | 11.55 | 44.23 | 14.98 |  1.32 | 0.17 | 1.92 |\n",
       "| Karanganyar     | 10.68 | 36.32 | 23.51 |  1.00 | 0.44 | 5.31 |\n",
       "| Sragen          | 13.83 | 30.05 | 18.08 |  3.05 | 0.10 | 1.33 |\n",
       "| Grobogan        | 12.74 | 44.81 | 11.51 | 81.65 | 0.35 | 1.09 |\n",
       "| Blora           | 12.39 | 38.27 | 15.27 |  0.08 | 0.58 | 0.15 |\n",
       "| Rembang         | 15.80 | 65.05 | 11.25 |  0.21 | 0.12 | 1.47 |\n",
       "| Pati            | 10.21 | 40.50 | 20.16 |  0.11 | 0.61 | 0.88 |\n",
       "| Kudus           |  7.60 | 32.20 | 40.15 | 10.78 | 0.25 | 1.19 |\n",
       "| Jepara          |  7.44 | 43.57 | 15.92 |  0.40 | 0.16 | 2.14 |\n",
       "| Demak           | 12.92 | 48.56 | 15.90 | 48.94 | 0.21 | 3.11 |\n",
       "| Semarang        |  7.82 | 30.06 | 29.47 | 38.31 | 0.21 | 1.10 |\n",
       "| Temanggung      | 10.17 | 43.77 | 10.68 |  0.00 | 0.27 | 0.11 |\n",
       "| Kendal          | 10.24 | 35.48 | 21.01 | 81.45 | 0.20 | 1.19 |\n",
       "| Batang          |  9.68 | 48.81 | 10.91 |  0.12 | 0.09 | 0.98 |\n",
       "| Pekalongan      | 10.57 | 48.36 | 11.90 |  0.37 | 0.24 | 0.95 |\n",
       "| Pemalang        | 16.56 | 47.22 | 13.53 |  0.45 | 0.12 | 0.27 |\n",
       "| Tegal           |  8.60 | 37.87 | 16.70 |  1.94 | 0.25 | 1.18 |\n",
       "| Brebes          | 17.43 | 55.99 | 11.27 |  0.16 | 0.08 | 0.69 |\n",
       "| Kota Magelang   |  7.75 | 49.03 | 39.82 |  0.00 | 0.92 | 1.84 |\n",
       "| Kota Surakarta  |  9.40 | 50.75 | 33.48 |  0.55 | 1.22 | 3.15 |\n",
       "| Kota Salatiga   |  5.14 | 39.86 | 42.81 |  6.49 | 1.72 | 3.99 |\n",
       "| Kota Semarang   |  4.56 | 33.39 | 43.26 | 40.31 | 2.13 | 4.56 |\n",
       "| Kota Pekalongan |  7.59 | 44.07 | 24.73 |  0.98 | 0.64 | 2.24 |\n",
       "| Kota Tegal      |  8.12 | 40.49 | 27.73 |  0.00 | 0.76 | 2.85 |\n",
       "\n"
      ],
      "text/plain": [
       "   Kab_Kota        Y     X1    X2    X3    X4   X5  \n",
       "1  Cilacap         11.67 44.52 11.73  0.24 0.13 1.60\n",
       "2  Banyumas        13.66 48.79 21.10  0.10 0.33 1.78\n",
       "3  Purbalingga     16.24 50.50 13.67  0.19 0.35 0.60\n",
       "4  Banjarnegara    16.23 40.52  9.29  0.62 0.24 0.75\n",
       "5  Kebumen         17.83 53.29 12.14  0.13 0.38 0.90\n",
       "6  Purworejo       12.40 40.33 20.86  0.04 0.20 0.57\n",
       "7  Wonosobo        17.67 47.40 11.47  0.00 0.00 0.14\n",
       "8  Magelang        11.91 40.65 13.73  1.19 0.15 0.72\n",
       "9  Boyolali        10.62 41.61 20.40  0.18 0.27 1.43\n",
       "10 Klaten          13.49 46.69 24.64  2.77 0.21 3.10\n",
       "11 Sukoharjo        8.23 38.60 28.15  1.38 0.59 6.11\n",
       "12 Wonogiri        11.55 44.23 14.98  1.32 0.17 1.92\n",
       "13 Karanganyar     10.68 36.32 23.51  1.00 0.44 5.31\n",
       "14 Sragen          13.83 30.05 18.08  3.05 0.10 1.33\n",
       "15 Grobogan        12.74 44.81 11.51 81.65 0.35 1.09\n",
       "16 Blora           12.39 38.27 15.27  0.08 0.58 0.15\n",
       "17 Rembang         15.80 65.05 11.25  0.21 0.12 1.47\n",
       "18 Pati            10.21 40.50 20.16  0.11 0.61 0.88\n",
       "19 Kudus            7.60 32.20 40.15 10.78 0.25 1.19\n",
       "20 Jepara           7.44 43.57 15.92  0.40 0.16 2.14\n",
       "21 Demak           12.92 48.56 15.90 48.94 0.21 3.11\n",
       "22 Semarang         7.82 30.06 29.47 38.31 0.21 1.10\n",
       "23 Temanggung      10.17 43.77 10.68  0.00 0.27 0.11\n",
       "24 Kendal          10.24 35.48 21.01 81.45 0.20 1.19\n",
       "25 Batang           9.68 48.81 10.91  0.12 0.09 0.98\n",
       "26 Pekalongan      10.57 48.36 11.90  0.37 0.24 0.95\n",
       "27 Pemalang        16.56 47.22 13.53  0.45 0.12 0.27\n",
       "28 Tegal            8.60 37.87 16.70  1.94 0.25 1.18\n",
       "29 Brebes          17.43 55.99 11.27  0.16 0.08 0.69\n",
       "30 Kota Magelang    7.75 49.03 39.82  0.00 0.92 1.84\n",
       "31 Kota Surakarta   9.40 50.75 33.48  0.55 1.22 3.15\n",
       "32 Kota Salatiga    5.14 39.86 42.81  6.49 1.72 3.99\n",
       "33 Kota Semarang    4.56 33.39 43.26 40.31 2.13 4.56\n",
       "34 Kota Pekalongan  7.59 44.07 24.73  0.98 0.64 2.24\n",
       "35 Kota Tegal       8.12 40.49 27.73  0.00 0.76 2.85"
      ]
     },
     "metadata": {},
     "output_type": "display_data"
    }
   ],
   "source": [
    "##Dataset\n",
    "data <- readr::read_csv(\"BPS_Jateng_2021.csv\")\n",
    "data"
   ]
  },
  {
   "cell_type": "code",
   "execution_count": 3,
   "metadata": {
    "vscode": {
     "languageId": "r"
    }
   },
   "outputs": [
    {
     "data": {
      "text/html": [
       "<table class=\"dataframe\">\n",
       "<caption>A data.frame: 35 × 6</caption>\n",
       "<thead>\n",
       "\t<tr><th scope=col>Y</th><th scope=col>X1</th><th scope=col>X2</th><th scope=col>X3</th><th scope=col>X4</th><th scope=col>X5</th></tr>\n",
       "\t<tr><th scope=col>&lt;dbl&gt;</th><th scope=col>&lt;dbl&gt;</th><th scope=col>&lt;dbl&gt;</th><th scope=col>&lt;dbl&gt;</th><th scope=col>&lt;dbl&gt;</th><th scope=col>&lt;dbl&gt;</th></tr>\n",
       "</thead>\n",
       "<tbody>\n",
       "\t<tr><td>11.67</td><td>44.52</td><td>11.73</td><td> 0.24</td><td>0.13</td><td>1.60</td></tr>\n",
       "\t<tr><td>13.66</td><td>48.79</td><td>21.10</td><td> 0.10</td><td>0.33</td><td>1.78</td></tr>\n",
       "\t<tr><td>16.24</td><td>50.50</td><td>13.67</td><td> 0.19</td><td>0.35</td><td>0.60</td></tr>\n",
       "\t<tr><td>16.23</td><td>40.52</td><td> 9.29</td><td> 0.62</td><td>0.24</td><td>0.75</td></tr>\n",
       "\t<tr><td>17.83</td><td>53.29</td><td>12.14</td><td> 0.13</td><td>0.38</td><td>0.90</td></tr>\n",
       "\t<tr><td>12.40</td><td>40.33</td><td>20.86</td><td> 0.04</td><td>0.20</td><td>0.57</td></tr>\n",
       "\t<tr><td>17.67</td><td>47.40</td><td>11.47</td><td> 0.00</td><td>0.00</td><td>0.14</td></tr>\n",
       "\t<tr><td>11.91</td><td>40.65</td><td>13.73</td><td> 1.19</td><td>0.15</td><td>0.72</td></tr>\n",
       "\t<tr><td>10.62</td><td>41.61</td><td>20.40</td><td> 0.18</td><td>0.27</td><td>1.43</td></tr>\n",
       "\t<tr><td>13.49</td><td>46.69</td><td>24.64</td><td> 2.77</td><td>0.21</td><td>3.10</td></tr>\n",
       "\t<tr><td> 8.23</td><td>38.60</td><td>28.15</td><td> 1.38</td><td>0.59</td><td>6.11</td></tr>\n",
       "\t<tr><td>11.55</td><td>44.23</td><td>14.98</td><td> 1.32</td><td>0.17</td><td>1.92</td></tr>\n",
       "\t<tr><td>10.68</td><td>36.32</td><td>23.51</td><td> 1.00</td><td>0.44</td><td>5.31</td></tr>\n",
       "\t<tr><td>13.83</td><td>30.05</td><td>18.08</td><td> 3.05</td><td>0.10</td><td>1.33</td></tr>\n",
       "\t<tr><td>12.74</td><td>44.81</td><td>11.51</td><td>81.65</td><td>0.35</td><td>1.09</td></tr>\n",
       "\t<tr><td>12.39</td><td>38.27</td><td>15.27</td><td> 0.08</td><td>0.58</td><td>0.15</td></tr>\n",
       "\t<tr><td>15.80</td><td>65.05</td><td>11.25</td><td> 0.21</td><td>0.12</td><td>1.47</td></tr>\n",
       "\t<tr><td>10.21</td><td>40.50</td><td>20.16</td><td> 0.11</td><td>0.61</td><td>0.88</td></tr>\n",
       "\t<tr><td> 7.60</td><td>32.20</td><td>40.15</td><td>10.78</td><td>0.25</td><td>1.19</td></tr>\n",
       "\t<tr><td> 7.44</td><td>43.57</td><td>15.92</td><td> 0.40</td><td>0.16</td><td>2.14</td></tr>\n",
       "\t<tr><td>12.92</td><td>48.56</td><td>15.90</td><td>48.94</td><td>0.21</td><td>3.11</td></tr>\n",
       "\t<tr><td> 7.82</td><td>30.06</td><td>29.47</td><td>38.31</td><td>0.21</td><td>1.10</td></tr>\n",
       "\t<tr><td>10.17</td><td>43.77</td><td>10.68</td><td> 0.00</td><td>0.27</td><td>0.11</td></tr>\n",
       "\t<tr><td>10.24</td><td>35.48</td><td>21.01</td><td>81.45</td><td>0.20</td><td>1.19</td></tr>\n",
       "\t<tr><td> 9.68</td><td>48.81</td><td>10.91</td><td> 0.12</td><td>0.09</td><td>0.98</td></tr>\n",
       "\t<tr><td>10.57</td><td>48.36</td><td>11.90</td><td> 0.37</td><td>0.24</td><td>0.95</td></tr>\n",
       "\t<tr><td>16.56</td><td>47.22</td><td>13.53</td><td> 0.45</td><td>0.12</td><td>0.27</td></tr>\n",
       "\t<tr><td> 8.60</td><td>37.87</td><td>16.70</td><td> 1.94</td><td>0.25</td><td>1.18</td></tr>\n",
       "\t<tr><td>17.43</td><td>55.99</td><td>11.27</td><td> 0.16</td><td>0.08</td><td>0.69</td></tr>\n",
       "\t<tr><td> 7.75</td><td>49.03</td><td>39.82</td><td> 0.00</td><td>0.92</td><td>1.84</td></tr>\n",
       "\t<tr><td> 9.40</td><td>50.75</td><td>33.48</td><td> 0.55</td><td>1.22</td><td>3.15</td></tr>\n",
       "\t<tr><td> 5.14</td><td>39.86</td><td>42.81</td><td> 6.49</td><td>1.72</td><td>3.99</td></tr>\n",
       "\t<tr><td> 4.56</td><td>33.39</td><td>43.26</td><td>40.31</td><td>2.13</td><td>4.56</td></tr>\n",
       "\t<tr><td> 7.59</td><td>44.07</td><td>24.73</td><td> 0.98</td><td>0.64</td><td>2.24</td></tr>\n",
       "\t<tr><td> 8.12</td><td>40.49</td><td>27.73</td><td> 0.00</td><td>0.76</td><td>2.85</td></tr>\n",
       "</tbody>\n",
       "</table>\n"
      ],
      "text/latex": [
       "A data.frame: 35 × 6\n",
       "\\begin{tabular}{llllll}\n",
       " Y & X1 & X2 & X3 & X4 & X5\\\\\n",
       " <dbl> & <dbl> & <dbl> & <dbl> & <dbl> & <dbl>\\\\\n",
       "\\hline\n",
       "\t 11.67 & 44.52 & 11.73 &  0.24 & 0.13 & 1.60\\\\\n",
       "\t 13.66 & 48.79 & 21.10 &  0.10 & 0.33 & 1.78\\\\\n",
       "\t 16.24 & 50.50 & 13.67 &  0.19 & 0.35 & 0.60\\\\\n",
       "\t 16.23 & 40.52 &  9.29 &  0.62 & 0.24 & 0.75\\\\\n",
       "\t 17.83 & 53.29 & 12.14 &  0.13 & 0.38 & 0.90\\\\\n",
       "\t 12.40 & 40.33 & 20.86 &  0.04 & 0.20 & 0.57\\\\\n",
       "\t 17.67 & 47.40 & 11.47 &  0.00 & 0.00 & 0.14\\\\\n",
       "\t 11.91 & 40.65 & 13.73 &  1.19 & 0.15 & 0.72\\\\\n",
       "\t 10.62 & 41.61 & 20.40 &  0.18 & 0.27 & 1.43\\\\\n",
       "\t 13.49 & 46.69 & 24.64 &  2.77 & 0.21 & 3.10\\\\\n",
       "\t  8.23 & 38.60 & 28.15 &  1.38 & 0.59 & 6.11\\\\\n",
       "\t 11.55 & 44.23 & 14.98 &  1.32 & 0.17 & 1.92\\\\\n",
       "\t 10.68 & 36.32 & 23.51 &  1.00 & 0.44 & 5.31\\\\\n",
       "\t 13.83 & 30.05 & 18.08 &  3.05 & 0.10 & 1.33\\\\\n",
       "\t 12.74 & 44.81 & 11.51 & 81.65 & 0.35 & 1.09\\\\\n",
       "\t 12.39 & 38.27 & 15.27 &  0.08 & 0.58 & 0.15\\\\\n",
       "\t 15.80 & 65.05 & 11.25 &  0.21 & 0.12 & 1.47\\\\\n",
       "\t 10.21 & 40.50 & 20.16 &  0.11 & 0.61 & 0.88\\\\\n",
       "\t  7.60 & 32.20 & 40.15 & 10.78 & 0.25 & 1.19\\\\\n",
       "\t  7.44 & 43.57 & 15.92 &  0.40 & 0.16 & 2.14\\\\\n",
       "\t 12.92 & 48.56 & 15.90 & 48.94 & 0.21 & 3.11\\\\\n",
       "\t  7.82 & 30.06 & 29.47 & 38.31 & 0.21 & 1.10\\\\\n",
       "\t 10.17 & 43.77 & 10.68 &  0.00 & 0.27 & 0.11\\\\\n",
       "\t 10.24 & 35.48 & 21.01 & 81.45 & 0.20 & 1.19\\\\\n",
       "\t  9.68 & 48.81 & 10.91 &  0.12 & 0.09 & 0.98\\\\\n",
       "\t 10.57 & 48.36 & 11.90 &  0.37 & 0.24 & 0.95\\\\\n",
       "\t 16.56 & 47.22 & 13.53 &  0.45 & 0.12 & 0.27\\\\\n",
       "\t  8.60 & 37.87 & 16.70 &  1.94 & 0.25 & 1.18\\\\\n",
       "\t 17.43 & 55.99 & 11.27 &  0.16 & 0.08 & 0.69\\\\\n",
       "\t  7.75 & 49.03 & 39.82 &  0.00 & 0.92 & 1.84\\\\\n",
       "\t  9.40 & 50.75 & 33.48 &  0.55 & 1.22 & 3.15\\\\\n",
       "\t  5.14 & 39.86 & 42.81 &  6.49 & 1.72 & 3.99\\\\\n",
       "\t  4.56 & 33.39 & 43.26 & 40.31 & 2.13 & 4.56\\\\\n",
       "\t  7.59 & 44.07 & 24.73 &  0.98 & 0.64 & 2.24\\\\\n",
       "\t  8.12 & 40.49 & 27.73 &  0.00 & 0.76 & 2.85\\\\\n",
       "\\end{tabular}\n"
      ],
      "text/markdown": [
       "\n",
       "A data.frame: 35 × 6\n",
       "\n",
       "| Y &lt;dbl&gt; | X1 &lt;dbl&gt; | X2 &lt;dbl&gt; | X3 &lt;dbl&gt; | X4 &lt;dbl&gt; | X5 &lt;dbl&gt; |\n",
       "|---|---|---|---|---|---|\n",
       "| 11.67 | 44.52 | 11.73 |  0.24 | 0.13 | 1.60 |\n",
       "| 13.66 | 48.79 | 21.10 |  0.10 | 0.33 | 1.78 |\n",
       "| 16.24 | 50.50 | 13.67 |  0.19 | 0.35 | 0.60 |\n",
       "| 16.23 | 40.52 |  9.29 |  0.62 | 0.24 | 0.75 |\n",
       "| 17.83 | 53.29 | 12.14 |  0.13 | 0.38 | 0.90 |\n",
       "| 12.40 | 40.33 | 20.86 |  0.04 | 0.20 | 0.57 |\n",
       "| 17.67 | 47.40 | 11.47 |  0.00 | 0.00 | 0.14 |\n",
       "| 11.91 | 40.65 | 13.73 |  1.19 | 0.15 | 0.72 |\n",
       "| 10.62 | 41.61 | 20.40 |  0.18 | 0.27 | 1.43 |\n",
       "| 13.49 | 46.69 | 24.64 |  2.77 | 0.21 | 3.10 |\n",
       "|  8.23 | 38.60 | 28.15 |  1.38 | 0.59 | 6.11 |\n",
       "| 11.55 | 44.23 | 14.98 |  1.32 | 0.17 | 1.92 |\n",
       "| 10.68 | 36.32 | 23.51 |  1.00 | 0.44 | 5.31 |\n",
       "| 13.83 | 30.05 | 18.08 |  3.05 | 0.10 | 1.33 |\n",
       "| 12.74 | 44.81 | 11.51 | 81.65 | 0.35 | 1.09 |\n",
       "| 12.39 | 38.27 | 15.27 |  0.08 | 0.58 | 0.15 |\n",
       "| 15.80 | 65.05 | 11.25 |  0.21 | 0.12 | 1.47 |\n",
       "| 10.21 | 40.50 | 20.16 |  0.11 | 0.61 | 0.88 |\n",
       "|  7.60 | 32.20 | 40.15 | 10.78 | 0.25 | 1.19 |\n",
       "|  7.44 | 43.57 | 15.92 |  0.40 | 0.16 | 2.14 |\n",
       "| 12.92 | 48.56 | 15.90 | 48.94 | 0.21 | 3.11 |\n",
       "|  7.82 | 30.06 | 29.47 | 38.31 | 0.21 | 1.10 |\n",
       "| 10.17 | 43.77 | 10.68 |  0.00 | 0.27 | 0.11 |\n",
       "| 10.24 | 35.48 | 21.01 | 81.45 | 0.20 | 1.19 |\n",
       "|  9.68 | 48.81 | 10.91 |  0.12 | 0.09 | 0.98 |\n",
       "| 10.57 | 48.36 | 11.90 |  0.37 | 0.24 | 0.95 |\n",
       "| 16.56 | 47.22 | 13.53 |  0.45 | 0.12 | 0.27 |\n",
       "|  8.60 | 37.87 | 16.70 |  1.94 | 0.25 | 1.18 |\n",
       "| 17.43 | 55.99 | 11.27 |  0.16 | 0.08 | 0.69 |\n",
       "|  7.75 | 49.03 | 39.82 |  0.00 | 0.92 | 1.84 |\n",
       "|  9.40 | 50.75 | 33.48 |  0.55 | 1.22 | 3.15 |\n",
       "|  5.14 | 39.86 | 42.81 |  6.49 | 1.72 | 3.99 |\n",
       "|  4.56 | 33.39 | 43.26 | 40.31 | 2.13 | 4.56 |\n",
       "|  7.59 | 44.07 | 24.73 |  0.98 | 0.64 | 2.24 |\n",
       "|  8.12 | 40.49 | 27.73 |  0.00 | 0.76 | 2.85 |\n",
       "\n"
      ],
      "text/plain": [
       "   Y     X1    X2    X3    X4   X5  \n",
       "1  11.67 44.52 11.73  0.24 0.13 1.60\n",
       "2  13.66 48.79 21.10  0.10 0.33 1.78\n",
       "3  16.24 50.50 13.67  0.19 0.35 0.60\n",
       "4  16.23 40.52  9.29  0.62 0.24 0.75\n",
       "5  17.83 53.29 12.14  0.13 0.38 0.90\n",
       "6  12.40 40.33 20.86  0.04 0.20 0.57\n",
       "7  17.67 47.40 11.47  0.00 0.00 0.14\n",
       "8  11.91 40.65 13.73  1.19 0.15 0.72\n",
       "9  10.62 41.61 20.40  0.18 0.27 1.43\n",
       "10 13.49 46.69 24.64  2.77 0.21 3.10\n",
       "11  8.23 38.60 28.15  1.38 0.59 6.11\n",
       "12 11.55 44.23 14.98  1.32 0.17 1.92\n",
       "13 10.68 36.32 23.51  1.00 0.44 5.31\n",
       "14 13.83 30.05 18.08  3.05 0.10 1.33\n",
       "15 12.74 44.81 11.51 81.65 0.35 1.09\n",
       "16 12.39 38.27 15.27  0.08 0.58 0.15\n",
       "17 15.80 65.05 11.25  0.21 0.12 1.47\n",
       "18 10.21 40.50 20.16  0.11 0.61 0.88\n",
       "19  7.60 32.20 40.15 10.78 0.25 1.19\n",
       "20  7.44 43.57 15.92  0.40 0.16 2.14\n",
       "21 12.92 48.56 15.90 48.94 0.21 3.11\n",
       "22  7.82 30.06 29.47 38.31 0.21 1.10\n",
       "23 10.17 43.77 10.68  0.00 0.27 0.11\n",
       "24 10.24 35.48 21.01 81.45 0.20 1.19\n",
       "25  9.68 48.81 10.91  0.12 0.09 0.98\n",
       "26 10.57 48.36 11.90  0.37 0.24 0.95\n",
       "27 16.56 47.22 13.53  0.45 0.12 0.27\n",
       "28  8.60 37.87 16.70  1.94 0.25 1.18\n",
       "29 17.43 55.99 11.27  0.16 0.08 0.69\n",
       "30  7.75 49.03 39.82  0.00 0.92 1.84\n",
       "31  9.40 50.75 33.48  0.55 1.22 3.15\n",
       "32  5.14 39.86 42.81  6.49 1.72 3.99\n",
       "33  4.56 33.39 43.26 40.31 2.13 4.56\n",
       "34  7.59 44.07 24.73  0.98 0.64 2.24\n",
       "35  8.12 40.49 27.73  0.00 0.76 2.85"
      ]
     },
     "metadata": {},
     "output_type": "display_data"
    }
   ],
   "source": [
    "cols = c(\"Y\",'X1', 'X2', 'X3', 'X4', 'X5')\n",
    "dataset = as.matrix(data[,cols])\n",
    "dataset1= as.data.frame(dataset)\n",
    "dataset1"
   ]
  },
  {
   "cell_type": "code",
   "execution_count": 4,
   "metadata": {
    "vscode": {
     "languageId": "r"
    }
   },
   "outputs": [
    {
     "data": {
      "text/plain": [
       "   Kab_Kota               Y                X1              X2       \n",
       " Length:35          Min.   : 4.560   Min.   :30.05   Min.   : 9.29  \n",
       " Class :character   1st Qu.: 8.415   1st Qu.:39.23   1st Qu.:12.02  \n",
       " Mode  :character   Median :10.680   Median :43.77   Median :16.70  \n",
       "                    Mean   :11.393   Mean   :43.47   Mean   :20.32  \n",
       "                    3rd Qu.:13.575   3rd Qu.:48.46   3rd Qu.:24.68  \n",
       "                    Max.   :17.830   Max.   :65.05   Max.   :43.26  \n",
       "       X3               X4               X5       \n",
       " Min.   : 0.000   Min.   :0.0000   Min.   :0.110  \n",
       " 1st Qu.: 0.125   1st Qu.:0.1650   1st Qu.:0.815  \n",
       " Median : 0.450   Median :0.2500   Median :1.190  \n",
       " Mean   : 9.300   Mean   :0.4197   Mean   :1.754  \n",
       " 3rd Qu.: 2.355   3rd Qu.:0.5100   3rd Qu.:2.190  \n",
       " Max.   :81.650   Max.   :2.1300   Max.   :6.110  "
      ]
     },
     "metadata": {},
     "output_type": "display_data"
    }
   ],
   "source": [
    "summary(data)"
   ]
  },
  {
   "cell_type": "code",
   "execution_count": 5,
   "metadata": {
    "vscode": {
     "languageId": "r"
    }
   },
   "outputs": [
    {
     "name": "stderr",
     "output_type": "stream",
     "text": [
      "corrplot 0.92 loaded\n",
      "\n",
      "\n",
      "Attaching package: 'Hmisc'\n",
      "\n",
      "\n",
      "The following object is masked from 'package:EnvStats':\n",
      "\n",
      "    stripChart\n",
      "\n",
      "\n",
      "The following objects are masked from 'package:dplyr':\n",
      "\n",
      "    src, summarize\n",
      "\n",
      "\n",
      "The following objects are masked from 'package:plyr':\n",
      "\n",
      "    is.discrete, summarize\n",
      "\n",
      "\n",
      "The following objects are masked from 'package:base':\n",
      "\n",
      "    format.pval, units\n",
      "\n",
      "\n"
     ]
    },
    {
     "data": {
      "text/plain": [
       "       Y    X1    X2    X3    X4    X5\n",
       "Y   1.00  0.53 -0.72 -0.15 -0.59 -0.50\n",
       "X1  0.53  1.00 -0.42 -0.26 -0.20 -0.20\n",
       "X2 -0.72 -0.42  1.00  0.10  0.76  0.59\n",
       "X3 -0.15 -0.26  0.10  1.00  0.09  0.07\n",
       "X4 -0.59 -0.20  0.76  0.09  1.00  0.56\n",
       "X5 -0.50 -0.20  0.59  0.07  0.56  1.00\n",
       "\n",
       "n= 35 \n",
       "\n",
       "\n",
       "P\n",
       "   Y      X1     X2     X3     X4     X5    \n",
       "Y         0.0010 0.0000 0.3846 0.0002 0.0020\n",
       "X1 0.0010        0.0124 0.1342 0.2599 0.2610\n",
       "X2 0.0000 0.0124        0.5602 0.0000 0.0002\n",
       "X3 0.3846 0.1342 0.5602        0.5955 0.7052\n",
       "X4 0.0002 0.2599 0.0000 0.5955        0.0004\n",
       "X5 0.0020 0.2610 0.0002 0.7052 0.0004       "
      ]
     },
     "metadata": {},
     "output_type": "display_data"
    }
   ],
   "source": [
    "library(corrplot)\n",
    "library(Hmisc)\n",
    "matriks<-rcorr(as.matrix(dataset))\n",
    "matriks"
   ]
  },
  {
   "cell_type": "code",
   "execution_count": 6,
   "metadata": {
    "vscode": {
     "languageId": "r"
    }
   },
   "outputs": [
    {
     "data": {
      "image/png": "[encoded data removed]",
      "text/plain": [
       "Plot with title \"\""
      ]
     },
     "metadata": {
      "image/png": {
       "height": 420,
       "width": 420
      }
     },
     "output_type": "display_data"
    }
   ],
   "source": [
    "matriks<-cor(dataset)\n",
    "# grafik standar (method=\"circle\"), type=\"full\"\n",
    "corrplot(matriks,order = \"hclust\", # mengurutkan berdasarkan hierarchical clustering\n",
    "         tl.col= \"black\", # warna tulisan\n",
    "         tl.srt= 45, # kemiringan tulisan 45 derajat\n",
    "         method = \"circle\") # Bentuk Visualisasi"
   ]
  },
  {
   "cell_type": "code",
   "execution_count": 7,
   "metadata": {
    "vscode": {
     "languageId": "r"
    }
   },
   "outputs": [
    {
     "data": {
      "text/html": [
       "<table class=\"dataframe\">\n",
       "<caption>A data.frame: 15 × 4</caption>\n",
       "<thead>\n",
       "\t<tr><th scope=col>row</th><th scope=col>column</th><th scope=col>cor</th><th scope=col>p</th></tr>\n",
       "\t<tr><th scope=col>&lt;chr&gt;</th><th scope=col>&lt;chr&gt;</th><th scope=col>&lt;dbl&gt;</th><th scope=col>&lt;dbl&gt;</th></tr>\n",
       "</thead>\n",
       "<tbody>\n",
       "\t<tr><td>Y </td><td>X1</td><td> 0.53295401</td><td>9.798907e-04</td></tr>\n",
       "\t<tr><td>Y </td><td>X2</td><td>-0.71836629</td><td>1.178345e-06</td></tr>\n",
       "\t<tr><td>X1</td><td>X2</td><td>-0.41823825</td><td>1.240994e-02</td></tr>\n",
       "\t<tr><td>Y </td><td>X3</td><td>-0.15162359</td><td>3.845832e-01</td></tr>\n",
       "\t<tr><td>X1</td><td>X3</td><td>-0.25820838</td><td>1.342288e-01</td></tr>\n",
       "\t<tr><td>X2</td><td>X3</td><td> 0.10191557</td><td>5.601870e-01</td></tr>\n",
       "\t<tr><td>Y </td><td>X4</td><td>-0.59495464</td><td>1.635674e-04</td></tr>\n",
       "\t<tr><td>X1</td><td>X4</td><td>-0.19568201</td><td>2.599284e-01</td></tr>\n",
       "\t<tr><td>X2</td><td>X4</td><td> 0.75617910</td><td>1.492652e-07</td></tr>\n",
       "\t<tr><td>X3</td><td>X4</td><td> 0.09291993</td><td>5.954824e-01</td></tr>\n",
       "\t<tr><td>Y </td><td>X5</td><td>-0.50477695</td><td>1.985325e-03</td></tr>\n",
       "\t<tr><td>X1</td><td>X5</td><td>-0.19524297</td><td>2.610203e-01</td></tr>\n",
       "\t<tr><td>X2</td><td>X5</td><td> 0.58504742</td><td>2.231164e-04</td></tr>\n",
       "\t<tr><td>X3</td><td>X5</td><td> 0.06627658</td><td>7.052271e-01</td></tr>\n",
       "\t<tr><td>X4</td><td>X5</td><td> 0.56176440</td><td>4.455304e-04</td></tr>\n",
       "</tbody>\n",
       "</table>\n"
      ],
      "text/latex": [
       "A data.frame: 15 × 4\n",
       "\\begin{tabular}{llll}\n",
       " row & column & cor & p\\\\\n",
       " <chr> & <chr> & <dbl> & <dbl>\\\\\n",
       "\\hline\n",
       "\t Y  & X1 &  0.53295401 & 9.798907e-04\\\\\n",
       "\t Y  & X2 & -0.71836629 & 1.178345e-06\\\\\n",
       "\t X1 & X2 & -0.41823825 & 1.240994e-02\\\\\n",
       "\t Y  & X3 & -0.15162359 & 3.845832e-01\\\\\n",
       "\t X1 & X3 & -0.25820838 & 1.342288e-01\\\\\n",
       "\t X2 & X3 &  0.10191557 & 5.601870e-01\\\\\n",
       "\t Y  & X4 & -0.59495464 & 1.635674e-04\\\\\n",
       "\t X1 & X4 & -0.19568201 & 2.599284e-01\\\\\n",
       "\t X2 & X4 &  0.75617910 & 1.492652e-07\\\\\n",
       "\t X3 & X4 &  0.09291993 & 5.954824e-01\\\\\n",
       "\t Y  & X5 & -0.50477695 & 1.985325e-03\\\\\n",
       "\t X1 & X5 & -0.19524297 & 2.610203e-01\\\\\n",
       "\t X2 & X5 &  0.58504742 & 2.231164e-04\\\\\n",
       "\t X3 & X5 &  0.06627658 & 7.052271e-01\\\\\n",
       "\t X4 & X5 &  0.56176440 & 4.455304e-04\\\\\n",
       "\\end{tabular}\n"
      ],
      "text/markdown": [
       "\n",
       "A data.frame: 15 × 4\n",
       "\n",
       "| row &lt;chr&gt; | column &lt;chr&gt; | cor &lt;dbl&gt; | p &lt;dbl&gt; |\n",
       "|---|---|---|---|\n",
       "| Y  | X1 |  0.53295401 | 9.798907e-04 |\n",
       "| Y  | X2 | -0.71836629 | 1.178345e-06 |\n",
       "| X1 | X2 | -0.41823825 | 1.240994e-02 |\n",
       "| Y  | X3 | -0.15162359 | 3.845832e-01 |\n",
       "| X1 | X3 | -0.25820838 | 1.342288e-01 |\n",
       "| X2 | X3 |  0.10191557 | 5.601870e-01 |\n",
       "| Y  | X4 | -0.59495464 | 1.635674e-04 |\n",
       "| X1 | X4 | -0.19568201 | 2.599284e-01 |\n",
       "| X2 | X4 |  0.75617910 | 1.492652e-07 |\n",
       "| X3 | X4 |  0.09291993 | 5.954824e-01 |\n",
       "| Y  | X5 | -0.50477695 | 1.985325e-03 |\n",
       "| X1 | X5 | -0.19524297 | 2.610203e-01 |\n",
       "| X2 | X5 |  0.58504742 | 2.231164e-04 |\n",
       "| X3 | X5 |  0.06627658 | 7.052271e-01 |\n",
       "| X4 | X5 |  0.56176440 | 4.455304e-04 |\n",
       "\n"
      ],
      "text/plain": [
       "   row column cor         p           \n",
       "1  Y   X1      0.53295401 9.798907e-04\n",
       "2  Y   X2     -0.71836629 1.178345e-06\n",
       "3  X1  X2     -0.41823825 1.240994e-02\n",
       "4  Y   X3     -0.15162359 3.845832e-01\n",
       "5  X1  X3     -0.25820838 1.342288e-01\n",
       "6  X2  X3      0.10191557 5.601870e-01\n",
       "7  Y   X4     -0.59495464 1.635674e-04\n",
       "8  X1  X4     -0.19568201 2.599284e-01\n",
       "9  X2  X4      0.75617910 1.492652e-07\n",
       "10 X3  X4      0.09291993 5.954824e-01\n",
       "11 Y   X5     -0.50477695 1.985325e-03\n",
       "12 X1  X5     -0.19524297 2.610203e-01\n",
       "13 X2  X5      0.58504742 2.231164e-04\n",
       "14 X3  X5      0.06627658 7.052271e-01\n",
       "15 X4  X5      0.56176440 4.455304e-04"
      ]
     },
     "metadata": {},
     "output_type": "display_data"
    }
   ],
   "source": [
    "## Membuat fungsi dengan nama fattenCorrMatrix\n",
    "flattenCorrMatrix <- function(cormat, pmat) {\n",
    "  ut <- upper.tri(cormat)\n",
    "  data.frame(\n",
    "    row = rownames(cormat)[row(cormat)[ut]],\n",
    "    column = rownames(cormat)[col(cormat)[ut]],\n",
    "    cor  =(cormat)[ut], # matriks korelasi\n",
    "    p = pmat[ut] # matriks p-value\n",
    "  )\n",
    "}\n",
    "\n",
    "# menjalankan fungsi\n",
    "matriks<-rcorr(as.matrix(dataset))\n",
    "flattenCorrMatrix(matriks$r,matriks$P)"
   ]
  },
  {
   "cell_type": "code",
   "execution_count": 8,
   "metadata": {
    "vscode": {
     "languageId": "r"
    }
   },
   "outputs": [
    {
     "data": {
      "text/plain": [
       "\n",
       "Call:\n",
       "lm(formula = Y ~ X1 + X2 + X3 + X4 + X5, data = dataset1)\n",
       "\n",
       "Coefficients:\n",
       "(Intercept)           X1           X2           X3           X4           X5  \n",
       "   8.746663     0.150766    -0.138509    -0.001234    -1.358418    -0.292137  \n"
      ]
     },
     "metadata": {},
     "output_type": "display_data"
    }
   ],
   "source": [
    "MLR = lm(Y~ X1+X2+X3+X4+X5, data = dataset1)\n",
    "MLR"
   ]
  },
  {
   "cell_type": "code",
   "execution_count": 9,
   "metadata": {
    "vscode": {
     "languageId": "r"
    }
   },
   "outputs": [
    {
     "data": {
      "text/plain": [
       "\n",
       "Call:\n",
       "lm(formula = Y ~ X1 + X2 + X3 + X4 + X5, data = dataset1)\n",
       "\n",
       "Residuals:\n",
       "    Min      1Q  Median      3Q     Max \n",
       "-4.8275 -1.0110 -0.1765  1.6562  3.5852 \n",
       "\n",
       "Coefficients:\n",
       "             Estimate Std. Error t value Pr(>|t|)  \n",
       "(Intercept)  8.746663   3.508745   2.493   0.0186 *\n",
       "X1           0.150766   0.065058   2.317   0.0277 *\n",
       "X2          -0.138509   0.073646  -1.881   0.0701 .\n",
       "X3          -0.001234   0.019807  -0.062   0.9507  \n",
       "X4          -1.358418   1.444557  -0.940   0.3548  \n",
       "X5          -0.292137   0.357683  -0.817   0.4207  \n",
       "---\n",
       "Signif. codes:  0 '***' 0.001 '**' 0.01 '*' 0.05 '.' 0.1 ' ' 1\n",
       "\n",
       "Residual standard error: 2.409 on 29 degrees of freedom\n",
       "Multiple R-squared:  0.6085,\tAdjusted R-squared:  0.541 \n",
       "F-statistic: 9.016 on 5 and 29 DF,  p-value: 2.947e-05\n"
      ]
     },
     "metadata": {},
     "output_type": "display_data"
    }
   ],
   "source": [
    "summary(MLR)"
   ]
  }
 ],
 "metadata": {
  "kernelspec": {
   "display_name": "R",
   "language": "R",
   "name": "ir"
  },
  "language_info": {
   "codemirror_mode": "r",
   "file_extension": ".r",
   "mimetype": "text/x-r-source",
   "name": "R",
   "pygments_lexer": "r",
   "version": "4.3.1"
  },
  "orig_nbformat": 4
 },
 "nbformat": 4,
 "nbformat_minor": 2
}
